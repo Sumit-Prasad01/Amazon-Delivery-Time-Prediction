{
 "cells": [
  {
   "cell_type": "code",
   "execution_count": 11,
   "id": "2c5973af",
   "metadata": {},
   "outputs": [],
   "source": [
    "import numpy as np\n",
    "import pandas as pd\n",
    "from sklearn.model_selection import train_test_split"
   ]
  },
  {
   "cell_type": "code",
   "execution_count": 5,
   "id": "1cf59ba8",
   "metadata": {},
   "outputs": [],
   "source": [
    "from config.paths_config import *"
   ]
  },
  {
   "cell_type": "code",
   "execution_count": 13,
   "id": "9727c50b",
   "metadata": {},
   "outputs": [],
   "source": [
    "from sklearn.linear_model import LinearRegression, Ridge, Lasso\n",
    "from sklearn.ensemble import RandomForestRegressor, GradientBoostingRegressor\n",
    "from sklearn.svm import SVR\n",
    "from sklearn.neighbors import KNeighborsRegressor\n",
    "from sklearn.tree import DecisionTreeRegressor\n",
    "from sklearn.metrics import root_mean_squared_error, mean_absolute_error, r2_score\n",
    "from xgboost import XGBRegressor\n",
    "from lightgbm import LGBMRegressor"
   ]
  },
  {
   "cell_type": "code",
   "execution_count": 3,
   "id": "86215e9b",
   "metadata": {},
   "outputs": [],
   "source": [
    "results = []"
   ]
  },
  {
   "cell_type": "code",
   "execution_count": 4,
   "id": "935c350a",
   "metadata": {},
   "outputs": [],
   "source": [
    "models = {\n",
    "    \"Linear Regression\": LinearRegression(),\n",
    "    \"Ridge\": Ridge(),\n",
    "    \"Lasso\": Lasso(),\n",
    "    \"Decision Tree\": DecisionTreeRegressor(),\n",
    "    \"Random Forest\": RandomForestRegressor(),\n",
    "    \"Gradient Boosting\": GradientBoostingRegressor(),\n",
    "    \"XGBoost\": XGBRegressor(objective=\"reg:squarederror\", eval_metric=\"rmse\"),\n",
    "    \"Support Vector Regressor\": SVR(),\n",
    "    \"KNN Regressor\": KNeighborsRegressor(),\n",
    "    \"LGBMRegressor\" : LGBMRegressor()\n",
    "}"
   ]
  },
  {
   "cell_type": "markdown",
   "id": "b5689bf4",
   "metadata": {},
   "source": [
    "## Train & Evaluate Models"
   ]
  },
  {
   "cell_type": "code",
   "execution_count": 8,
   "id": "76571474",
   "metadata": {},
   "outputs": [],
   "source": [
    "df = pd.read_csv(\"../Processed_Data.csv\")"
   ]
  },
  {
   "cell_type": "code",
   "execution_count": 9,
   "id": "8ab274dd",
   "metadata": {},
   "outputs": [],
   "source": [
    "X = df.drop(columns=[\"Delivery_Time\", \"Order_ID\"])\n",
    "y = df[\"Delivery_Time\"]"
   ]
  },
  {
   "cell_type": "code",
   "execution_count": 12,
   "id": "7a946aa9",
   "metadata": {},
   "outputs": [],
   "source": [
    "X_train, X_test, y_train, y_test = train_test_split(\n",
    "    X, y, test_size=0.2, random_state=42\n",
    ")"
   ]
  },
  {
   "cell_type": "code",
   "execution_count": null,
   "id": "4ecb653f",
   "metadata": {},
   "outputs": [],
   "source": [
    "for name, model in models.items():\n",
    "    model.fit(X_train, y_train)\n",
    "    preds = model.predict(X_test)\n",
    "\n",
    "    rmse = root_mean_squared_error(y_test, preds, squared=False)\n",
    "    mae = mean_absolute_error(y_test, preds)\n",
    "    r2 = r2_score(y_test, preds)\n",
    "\n",
    "    results.append([name, rmse, mae, r2])"
   ]
  }
 ],
 "metadata": {
  "kernelspec": {
   "display_name": ".venv",
   "language": "python",
   "name": "python3"
  },
  "language_info": {
   "codemirror_mode": {
    "name": "ipython",
    "version": 3
   },
   "file_extension": ".py",
   "mimetype": "text/x-python",
   "name": "python",
   "nbconvert_exporter": "python",
   "pygments_lexer": "ipython3",
   "version": "3.12.4"
  }
 },
 "nbformat": 4,
 "nbformat_minor": 5
}
