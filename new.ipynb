{
 "cells": [
  {
   "cell_type": "code",
   "execution_count": 1,
   "id": "ac31f9fe",
   "metadata": {},
   "outputs": [],
   "source": [
    "import pandas"
   ]
  },
  {
   "cell_type": "code",
   "execution_count": 7,
   "id": "c49c4eba",
   "metadata": {},
   "outputs": [
    {
     "name": "stdout",
     "output_type": "stream",
     "text": [
      "Original DataFrame columns: ['Category_Grocery', 'Agent_Rating', 'Traffic_Low', 'Distance_km', 'Agent_Age', 'Weather_Sunny', 'Weather_Cloudy', 'Weather_Fog', 'Vehicle_motorcycle', 'Traffic_Medium', 'Drop_Longitude', 'Traffic_Jam', 'Drop_Latitude', 'Store_Longitude', 'Store_Latitude', 'Order_Hour', 'Day_Of_Week', 'Area_Metropolitian', 'Pickup_Delay', 'Area_Semi-Urban', 'Weather_Stormy', 'Weather_Sandstorms', 'Weather_Windy', 'Category_Cosmetics', 'Delivery_Time']\n",
      "Categorical features: []\n"
     ]
    }
   ],
   "source": [
    "import pandas as pd\n",
    "\n",
    "def get_categorical_features(df: pd.DataFrame) -> list:\n",
    "    \"\"\"\n",
    "    Identifies and returns a list of columns in a DataFrame that have the 'object' dtype (typically strings/categories).\n",
    "\n",
    "    Args:\n",
    "        df: The Pandas DataFrame to inspect.\n",
    "\n",
    "    Returns:\n",
    "        A list of column names containing categorical data.\n",
    "    \"\"\"\n",
    "    # Use select_dtypes to filter columns with 'object' (string/categorical) dtype\n",
    "    categorical_df = ~ df.select_dtypes(include='object')\n",
    "    \n",
    "    # Return the list of column names\n",
    "    return categorical_df.columns.tolist()\n",
    "\n",
    "# Example Usage (Assuming you have a DataFrame named 'data')\n",
    "\n",
    "# Create a sample DataFrame for demonstration\n",
    "\n",
    "df = pd.read_csv(\"./artifacts/processed/processed_train.csv\")\n",
    "\n",
    "# Get the categorical features\n",
    "cat_features = get_categorical_features(df)\n",
    "\n",
    "print(f\"Original DataFrame columns: {df.columns.tolist()}\")\n",
    "print(f\"Categorical features: {cat_features}\")\n",
    "# Output: ['Category', 'Weather']"
   ]
  },
  {
   "cell_type": "code",
   "execution_count": null,
   "id": "db8c032c",
   "metadata": {},
   "outputs": [],
   "source": []
  }
 ],
 "metadata": {
  "kernelspec": {
   "display_name": ".venv",
   "language": "python",
   "name": "python3"
  },
  "language_info": {
   "codemirror_mode": {
    "name": "ipython",
    "version": 3
   },
   "file_extension": ".py",
   "mimetype": "text/x-python",
   "name": "python",
   "nbconvert_exporter": "python",
   "pygments_lexer": "ipython3",
   "version": "3.12.4"
  }
 },
 "nbformat": 4,
 "nbformat_minor": 5
}
